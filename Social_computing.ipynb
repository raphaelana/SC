{
  "nbformat": 4,
  "nbformat_minor": 0,
  "metadata": {
    "colab": {
      "provenance": [],
      "authorship_tag": "ABX9TyM5YcR1kPlU6iblLWmU8jaV",
      "include_colab_link": true
    },
    "kernelspec": {
      "name": "python3",
      "display_name": "Python 3"
    },
    "language_info": {
      "name": "python"
    }
  },
  "cells": [
    {
      "cell_type": "markdown",
      "metadata": {
        "id": "view-in-github",
        "colab_type": "text"
      },
      "source": [
        "<a href=\"https://colab.research.google.com/github/raphaelana/SC/blob/main/Social_computing.ipynb\" target=\"_parent\"><img src=\"https://colab.research.google.com/assets/colab-badge.svg\" alt=\"Open In Colab\"/></a>"
      ]
    },
    {
      "cell_type": "code",
      "execution_count": 2,
      "metadata": {
        "colab": {
          "base_uri": "https://localhost:8080/"
        },
        "id": "jiln52Xkovrh",
        "outputId": "6af2b337-a949-4da4-ddb1-e6c5e2ef9f26"
      },
      "outputs": [
        {
          "output_type": "stream",
          "name": "stdout",
          "text": [
            "Looking in indexes: https://pypi.org/simple, https://us-python.pkg.dev/colab-wheels/public/simple/\n",
            "Collecting columnar\n",
            "  Downloading Columnar-1.4.1-py3-none-any.whl (11 kB)\n",
            "Requirement already satisfied: wcwidth in /usr/local/lib/python3.8/dist-packages (from columnar) (0.2.6)\n",
            "Requirement already satisfied: toolz in /usr/local/lib/python3.8/dist-packages (from columnar) (0.12.0)\n",
            "Installing collected packages: columnar\n",
            "Successfully installed columnar-1.4.1\n"
          ]
        }
      ],
      "source": [
        "pip install columnar\n"
      ]
    },
    {
      "cell_type": "code",
      "source": [
        "import tweepy\n",
        "import columnar\n",
        "import numpy\n",
        "import json"
      ],
      "metadata": {
        "id": "rXCrU7UopMkB"
      },
      "execution_count": 3,
      "outputs": []
    },
    {
      "cell_type": "code",
      "source": [
        "import tweepy\n",
        "from columnar import columnar\n",
        "\n",
        "#First update below varibales with your own information\n",
        "consumer_key = \"lfYWtmGNSDL2yFlz0fgVB2SZq\"\n",
        "consumer_secret = \"ORoLwspbhpeyUBXBCMS6iHeVoZxAUSHQVI8ZgARaFKzdjPiZPO\"\n",
        "access_token = \"1569367318677028867-axbP4ot9LQV9zQrAYMWf66pBm8qb8Q\"\n",
        "access_token_secret = \"DH11T18aB2tci86dlXTPglKNa8a0R4A9Ytya72MVl52yc\"\n",
        "\n",
        "\n",
        "# Setting up Tweepy authorization\n",
        "auth = tweepy.OAuthHandler(consumer_key, consumer_secret)\n",
        "auth.set_access_token(access_token, access_token_secret)\n",
        "api = tweepy.API(auth, wait_on_rate_limit=True)"
      ],
      "metadata": {
        "id": "_0Zd7Hs7pQGE"
      },
      "execution_count": 4,
      "outputs": []
    },
    {
      "cell_type": "code",
      "source": [
        "import json\n",
        "\n",
        "username = 'boredbengio'\n",
        "count = 5\n",
        "\n",
        "# Only iterate through the first n statuses\n",
        "tweets = tweepy.Cursor(api.user_timeline,\n",
        "                       id=username).items(count)\n",
        "\n",
        "\n",
        "# Pulling information from tweets iterable object\n",
        "tweets_list = [[tweet.id, tweet.created_at, tweet.text] for tweet in tweets]\n",
        "\n",
        "\n",
        "#print tweets\n",
        "headers = ['id', ' created_at','text']\n",
        "table = columnar(tweets_list, headers, no_borders=True)\n",
        "print(table)\n",
        "\n",
        "\n",
        "# what are the current attributes/tags in a tweet?\n",
        "# https://jsoneditoronline.org/\n",
        "tweet = api.get_status('1420646753863225349')\n",
        "print(json.dumps(tweet._json))"
      ],
      "metadata": {
        "colab": {
          "base_uri": "https://localhost:8080/"
        },
        "id": "8f4bJmV5pSNO",
        "outputId": "779624ec-67d5-4c93-8637-7d95888bfaa7"
      },
      "execution_count": 5,
      "outputs": [
        {
          "output_type": "stream",
          "name": "stdout",
          "text": [
            "        \n",
            "  ID                    CREATED_AT          TEXT                                \n",
            "    \n",
            "  1540422845934829569  2022-06-24 19:53:20  All you fools talking about consci  \n",
            "                                            ousness ex post,                    \n",
            "                                            but only I wrote about #consciousn  \n",
            "                                            essprior.                           \n",
            "  1538759487061893120  2022-06-20 05:43:45  RT @boredyannlecun: Fun factoid: t  \n",
            "                                            he Ikea Astrid (a high-end flat-pa  \n",
            "                                            cked table for yuppies) uses a Con  \n",
            "                                            vNet to recognize objects placed o  \n",
            "                                            n i…                                \n",
            "  1523638969358897152  2022-05-09 12:20:12  @visarga to become mindful          \n",
            "                                            find your queries, keys, values     \n",
            "                                            then look to the world              \n",
            "                                                                                \n",
            "                                            #consciousnessprior                 \n",
            "  1523529200829091845  2022-05-09 05:04:01  we must all apply                   \n",
            "                                            self-attention mechanisms           \n",
            "                                            to achieve world peace              \n",
            "                                                                                \n",
            "                                            #consciousnessprior #hadamardhaiku  \n",
            "  1523507627375931394  2022-05-09 03:38:18  RT @boredyannlecun: Quantum comput  \n",
            "                                            ing—what's the big deal? In 1989,   \n",
            "                                            I already demonstrated *convolutio  \n",
            "                                            nal superposition*, where individu  \n",
            "                                            al…                                 \n",
            "\n",
            "{\"created_at\": \"Thu Jul 29 07:25:55 +0000 2021\", \"id\": 1420646753863225349, \"id_str\": \"1420646753863225349\", \"text\": \"There is a lot of talk about normalizing flows. But I think it is also important be mindful of other ways to flow a\\u2026 https://t.co/zLONavUjyu\", \"truncated\": true, \"entities\": {\"hashtags\": [], \"symbols\": [], \"user_mentions\": [], \"urls\": [{\"url\": \"https://t.co/zLONavUjyu\", \"expanded_url\": \"https://twitter.com/i/web/status/1420646753863225349\", \"display_url\": \"twitter.com/i/web/status/1\\u2026\", \"indices\": [117, 140]}]}, \"source\": \"<a href=\\\"https://mobile.twitter.com\\\" rel=\\\"nofollow\\\">Twitter Web App</a>\", \"in_reply_to_status_id\": null, \"in_reply_to_status_id_str\": null, \"in_reply_to_user_id\": null, \"in_reply_to_user_id_str\": null, \"in_reply_to_screen_name\": null, \"user\": {\"id\": 1275256897373908993, \"id_str\": \"1275256897373908993\", \"name\": \"boredbengio\", \"screen_name\": \"boredbengio\", \"location\": \"Montreal\", \"description\": \"My subconscious invented the consciousness prior.\", \"url\": \"https://t.co/wFDPKA4Az7\", \"entities\": {\"url\": {\"urls\": [{\"url\": \"https://t.co/wFDPKA4Az7\", \"expanded_url\": \"https://arxiv.org/abs/1709.08568\", \"display_url\": \"arxiv.org/abs/1709.08568\", \"indices\": [0, 23]}]}, \"description\": {\"urls\": []}}, \"protected\": false, \"followers_count\": 2946, \"friends_count\": 1, \"listed_count\": 16, \"created_at\": \"Tue Jun 23 02:38:40 +0000 2020\", \"favourites_count\": 106, \"utc_offset\": null, \"time_zone\": null, \"geo_enabled\": false, \"verified\": false, \"statuses_count\": 70, \"lang\": null, \"contributors_enabled\": false, \"is_translator\": false, \"is_translation_enabled\": false, \"profile_background_color\": \"F5F8FA\", \"profile_background_image_url\": null, \"profile_background_image_url_https\": null, \"profile_background_tile\": false, \"profile_image_url\": \"http://pbs.twimg.com/profile_images/1275257254565097474/0MGGRgbK_normal.jpg\", \"profile_image_url_https\": \"https://pbs.twimg.com/profile_images/1275257254565097474/0MGGRgbK_normal.jpg\", \"profile_link_color\": \"1DA1F2\", \"profile_sidebar_border_color\": \"C0DEED\", \"profile_sidebar_fill_color\": \"DDEEF6\", \"profile_text_color\": \"333333\", \"profile_use_background_image\": true, \"has_extended_profile\": true, \"default_profile\": true, \"default_profile_image\": false, \"following\": false, \"follow_request_sent\": false, \"notifications\": false, \"translator_type\": \"none\", \"withheld_in_countries\": []}, \"geo\": null, \"coordinates\": null, \"place\": null, \"contributors\": null, \"is_quote_status\": false, \"retweet_count\": 2, \"favorite_count\": 18, \"favorited\": false, \"retweeted\": false, \"lang\": \"en\"}\n"
          ]
        }
      ]
    },
    {
      "cell_type": "code",
      "source": [
        "# pagination.. iterate through pages\n",
        "count = 1\n",
        "for page in tweepy.Cursor(api.user_timeline,id=username).pages(count):\n",
        "    searched_tweets = [status for status in page]\n",
        "    ids_texts = [(json_obj.id, json_obj.text) for json_obj in searched_tweets]\n",
        "    for id, text in ids_texts:\n",
        "        print(id, text[:30])\n",
        "    # searched_tweets = [status._json for status in page]\n",
        "    #json_strings = [json.dumps(json_obj) for json_obj in searched_tweets]  \n",
        "    #print(json_strings[0])"
      ],
      "metadata": {
        "colab": {
          "base_uri": "https://localhost:8080/"
        },
        "id": "Cq9MAoTHpZH1",
        "outputId": "23596224-b3cc-4f90-ab51-30b3d9793a2b"
      },
      "execution_count": 6,
      "outputs": [
        {
          "output_type": "stream",
          "name": "stdout",
          "text": [
            "1540422845934829569 All you fools talking about co\n",
            "1538759487061893120 RT @boredyannlecun: Fun factoi\n",
            "1523638969358897152 @visarga to become mindful\n",
            "fin\n",
            "1523529200829091845 we must all apply\n",
            "self-attenti\n",
            "1523507627375931394 RT @boredyannlecun: Quantum co\n",
            "1520417612043325448 RT @boredyannlecun: If (i) all\n",
            "1517141321927954432 My research program so big, Go\n",
            "1516969990901092353 My brain so big, I wrote \"The \n",
            "1516968578016329729 RT @boredyannlecun: My influen\n",
            "1516967191601725440 My lab so big, you need Hadoop\n",
            "1516965673196572672 RT @boredyannlecun: My deep ne\n",
            "1425265524238389254 RT @boredyannlecun: WTF, I was\n",
            "1420646753863225349 There is a lot of talk about n\n",
            "1338760483097235456 RT @boredyannlecun: Damn, @pmd\n",
            "1338267929587163139 RT @boredyannlecun: What did y\n",
            "1338266157573419008 RT @boredyannlecun: In light o\n",
            "1334782203285430273 Seems @GoogleAI had the vanish\n",
            "1324772330913046530 RT @boredyannlecun: Trump has \n",
            "1324481304797290497 ICLoseR (pronounced \"I see los\n",
            "1322996993120231426 What if instead of minimizing \n"
          ]
        }
      ]
    },
    {
      "cell_type": "code",
      "source": [
        "user_id='14861663'\n",
        "count = 5\n",
        "\n",
        "followers = tweepy.Cursor(api.followers_ids,\n",
        "                          user_id=user_id).items(count)\n",
        "\n",
        "user_list = [[user] for user in followers]\n",
        "\n",
        "headers = ['user_id']\n",
        "table = columnar(user_list, headers, no_borders=True)\n",
        "print(table) "
      ],
      "metadata": {
        "colab": {
          "base_uri": "https://localhost:8080/"
        },
        "id": "UY0rP2y5p2t8",
        "outputId": "ca6cdf78-3669-47fc-b293-4b9ac781cdda"
      },
      "execution_count": 7,
      "outputs": [
        {
          "output_type": "stream",
          "name": "stdout",
          "text": [
            "    \n",
            "  USER_ID              \n",
            "    \n",
            "  1619738437283901441  \n",
            "  1564500949585891328  \n",
            "  1349937009423511556  \n",
            "  1359630841169776644  \n",
            "  19491900             \n",
            "\n"
          ]
        }
      ]
    },
    {
      "cell_type": "code",
      "source": [
        "import json \n",
        "\n",
        "tweet_id='1255894886051713030'\n",
        "\n",
        "tweet = api.get_status(tweet_id)\n",
        "\n",
        "tweet_list = [tweet.text, tweet.favorite_count, tweet.retweet_count]\n",
        "print(tweet_list)\n",
        "\n",
        "json_tweet = json.dumps(tweet._json)\n",
        "\n",
        "print( json_tweet)"
      ],
      "metadata": {
        "colab": {
          "base_uri": "https://localhost:8080/"
        },
        "id": "cryosSxEp4_P",
        "outputId": "bbea97c4-65e7-4f37-da2c-a9ecf2c1708c"
      },
      "execution_count": 8,
      "outputs": [
        {
          "output_type": "stream",
          "name": "stdout",
          "text": [
            "['Al Pacino Fan Site: Al Pacino The Latest Huge Name For Tarantino’s ‘Once Upon A Time In Hollywood’ https://t.co/ldyHRX2kuH', 7, 1]\n",
            "{\"created_at\": \"Thu Apr 30 16:20:48 +0000 2020\", \"id\": 1255894886051713030, \"id_str\": \"1255894886051713030\", \"text\": \"Al Pacino Fan Site: Al Pacino The Latest Huge Name For Tarantino\\u2019s \\u2018Once Upon A Time In Hollywood\\u2019 https://t.co/ldyHRX2kuH\", \"truncated\": false, \"entities\": {\"hashtags\": [], \"symbols\": [], \"user_mentions\": [], \"urls\": [{\"url\": \"https://t.co/ldyHRX2kuH\", \"expanded_url\": \"https://alpacino.life/al-pacino-the-latest-huge-name-for-tarantinos-once-upon-a-time-in-hollywood-2.html\", \"display_url\": \"alpacino.life/al-pacino-the-\\u2026\", \"indices\": [99, 122]}]}, \"source\": \"<a href=\\\"http://alpacino.info\\\" rel=\\\"nofollow\\\">AlPacino.info</a>\", \"in_reply_to_status_id\": null, \"in_reply_to_status_id_str\": null, \"in_reply_to_user_id\": null, \"in_reply_to_user_id_str\": null, \"in_reply_to_screen_name\": null, \"user\": {\"id\": 233717042, \"id_str\": \"233717042\", \"name\": \"Al Pacino.info\", \"screen_name\": \"AlPacinoinfo\", \"location\": \"World wide Fansite\", \"description\": \"Welcome to the unofficial Al Pacino fan site and forum!\\nFacebook fanpage https://t.co/3FzpwmtG5F\", \"url\": \"https://t.co/nh7BPXVAAA\", \"entities\": {\"url\": {\"urls\": [{\"url\": \"https://t.co/nh7BPXVAAA\", \"expanded_url\": \"http://alpacino.life\", \"display_url\": \"alpacino.life\", \"indices\": [0, 23]}]}, \"description\": {\"urls\": [{\"url\": \"https://t.co/3FzpwmtG5F\", \"expanded_url\": \"http://www.facebook.com/AlPacinoinfo\", \"display_url\": \"facebook.com/AlPacinoinfo\", \"indices\": [73, 96]}]}}, \"protected\": false, \"followers_count\": 5974, \"friends_count\": 46, \"listed_count\": 7, \"created_at\": \"Mon Jan 03 23:15:50 +0000 2011\", \"favourites_count\": 9, \"utc_offset\": null, \"time_zone\": null, \"geo_enabled\": false, \"verified\": false, \"statuses_count\": 233, \"lang\": null, \"contributors_enabled\": false, \"is_translator\": false, \"is_translation_enabled\": false, \"profile_background_color\": \"131516\", \"profile_background_image_url\": \"http://abs.twimg.com/images/themes/theme1/bg.png\", \"profile_background_image_url_https\": \"https://abs.twimg.com/images/themes/theme1/bg.png\", \"profile_background_tile\": true, \"profile_image_url\": \"http://pbs.twimg.com/profile_images/1730799328/tumblr_lv0611MvMw1qefgdko1_400_normal.jpg\", \"profile_image_url_https\": \"https://pbs.twimg.com/profile_images/1730799328/tumblr_lv0611MvMw1qefgdko1_400_normal.jpg\", \"profile_banner_url\": \"https://pbs.twimg.com/profile_banners/233717042/1425244321\", \"profile_link_color\": \"009999\", \"profile_sidebar_border_color\": \"EEEEEE\", \"profile_sidebar_fill_color\": \"EFEFEF\", \"profile_text_color\": \"333333\", \"profile_use_background_image\": true, \"has_extended_profile\": false, \"default_profile\": false, \"default_profile_image\": false, \"following\": false, \"follow_request_sent\": false, \"notifications\": false, \"translator_type\": \"none\", \"withheld_in_countries\": []}, \"geo\": null, \"coordinates\": null, \"place\": null, \"contributors\": null, \"is_quote_status\": false, \"retweet_count\": 1, \"favorite_count\": 7, \"favorited\": false, \"retweeted\": false, \"possibly_sensitive\": false, \"possibly_sensitive_appealable\": false, \"lang\": \"en\"}\n"
          ]
        }
      ]
    },
    {
      "cell_type": "code",
      "source": [
        "# Define the search term and the date_since date\n",
        "\n",
        "search_words = \"#disneyland -filter:retweets\"\n",
        "\n",
        "# Collect tweets\n",
        "tweets = tweepy.Cursor(api.search,\n",
        "                       q=search_words,\n",
        "                       lang=\"en\").items(5)\n",
        "\n",
        "# Pulling information from tweets iterable object\n",
        "tweets_list = [[tweet.id, tweet.created_at, tweet.text] for tweet in tweets]\n",
        "\n",
        "#print tweets\n",
        "headers = ['id', ' created_at','text']\n",
        "table = columnar(tweets_list, headers, no_borders=True)\n",
        "print(table)"
      ],
      "metadata": {
        "colab": {
          "base_uri": "https://localhost:8080/"
        },
        "id": "StEF80gQqJxz",
        "outputId": "fdeeb861-2d3d-4408-b8a0-baf886a7cf6f"
      },
      "execution_count": 9,
      "outputs": [
        {
          "output_type": "stream",
          "name": "stdout",
          "text": [
            "        \n",
            "  ID                    CREATED_AT          TEXT                                \n",
            "    \n",
            "  1621725666830942209  2023-02-04 04:21:43  Peter Pan's Flight has been tempor  \n",
            "                                            arily interrupted. On average, an   \n",
            "                                            interruption takes 43 minutes.… ht  \n",
            "                                            tps://t.co/r8jLzU0TLI               \n",
            "  1621725666285592578  2023-02-04 04:21:43  Matterhorn Bobsleds has been reope  \n",
            "                                            ned after an interruption of 135 m  \n",
            "                                            inutes. https://t.co/OuQuBaKUXq #D  \n",
            "                                            isneyland… https://t.co/S65A0HYH7c  \n",
            "  1621725332025008129  2023-02-04 04:20:24  Disney Parks Welcoming New ‘Big He  \n",
            "                                            ro 6’ Meet and Greet: https://t.co  \n",
            "                                            /e2egtylNwF (@InsideTheMagic) #Dis  \n",
            "                                            neyland                             \n",
            "  1621725296079822853  2023-02-04 04:20:15  #InspireKey starting in #Disneylan  \n",
            "                                            d on 2023-02-26 is available #Magi  \n",
            "                                            cKey 797                            \n",
            "  1621725241977225217  2023-02-04 04:20:02  All the Lightning Lane passes for   \n",
            "                                            Toy Story Midway Mania! have been   \n",
            "                                            given away. #DCA #CaliforniaAdvent  \n",
            "                                            ure… https://t.co/Y55mzfISBG        \n",
            "\n"
          ]
        }
      ]
    },
    {
      "cell_type": "code",
      "source": [],
      "metadata": {
        "id": "oLuQURG5qKNk"
      },
      "execution_count": null,
      "outputs": []
    }
  ]
}